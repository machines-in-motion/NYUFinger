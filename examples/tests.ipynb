{
 "cells": [
  {
   "cell_type": "code",
   "execution_count": null,
   "metadata": {},
   "outputs": [],
   "source": [
    "from FingerPy.robot.interface import TeensyUDPBridge"
   ]
  },
  {
   "cell_type": "code",
   "execution_count": null,
   "metadata": {},
   "outputs": [],
   "source": [
    "bridge = TeensyUDPBridge()"
   ]
  },
  {
   "cell_type": "code",
   "execution_count": null,
   "metadata": {},
   "outputs": [],
   "source": [
    "from FingerMsgs import FingerCmd, FingerState\n",
    "from cyclonedds.domain import DomainParticipant\n",
    "from cyclonedds.topic import Topic\n",
    "from cyclonedds.pub import DataWriter\n",
    "from cyclonedds.sub import DataReader\n",
    "import numpy as np"
   ]
  },
  {
   "cell_type": "code",
   "execution_count": null,
   "metadata": {},
   "outputs": [],
   "source": [
    "from dataclasses import dataclass\n",
    "\n",
    "@dataclass\n",
    "class RobotConfig:\n",
    "    DoF: int\n",
    "    robot_name: str\n",
    "    state_fields: list\n",
    "    command_fields: list\n",
    "    current2Torque: float\n",
    "    gear_ratio: float\n",
    "    max_torque: float\n",
    "\n",
    "config = RobotConfig\n",
    "config.DoF = 3\n",
    "config.robot_name = 'finger1'\n",
    "\n",
    "config.state_fields = [\n",
    "                       'q_hip',   'q_thigh',   'q_knee',\n",
    "                       'dq_hip',  'dq_thigh',  'dq_knee', \n",
    "                       'tau_hip', 'tau_thigh', 'tau_knee'\n",
    "                      ]\n",
    "\n",
    "config.command_fields = [\n",
    "                         'tau_ff_hip', 'tau_ff_thigh',  'tau_ff_knee',\n",
    "                         'q_des_hip',  'q_des_thigh',   'q_des_knee', \n",
    "                         'dq_des_hip', 'dq_des_thigh',  'dq_des_knee', \n",
    "                         'kp_hip',     'kp_thigh',      'kp_knee',\n",
    "                         'kd_hip',     'kd_thigh',      'kd_knee'\n",
    "                         ]\n",
    "\n",
    "config.current2Torque = 1.0\n",
    "config.gear_ratio = 9\n",
    "config.max_torque = 20.0"
   ]
  },
  {
   "cell_type": "code",
   "execution_count": null,
   "metadata": {},
   "outputs": [],
   "source": [
    "def get_last_msg(reader, topic_type):\n",
    "    \"\"\" \"\"\"\n",
    "    last_msg = reader.take()\n",
    "\n",
    "    if last_msg:\n",
    "        while True:\n",
    "            a = reader.take()\n",
    "            if not a:\n",
    "                break\n",
    "            else:\n",
    "                last_msg = a\n",
    "    if last_msg:\n",
    "        msg = last_msg[0]\n",
    "        if type(msg) == topic_type:\n",
    "            return msg\n",
    "        else:\n",
    "            return None\n",
    "\n",
    "    else:\n",
    "        return None\n",
    "\n",
    "import numpy as np\n",
    "\n",
    "class UDPCycloneDDSBridge:\n",
    "    def __init__(self, udp_bridge: TeensyUDPBridge, cfg: RobotConfig):\n",
    "\n",
    "        self.cfg = cfg\n",
    "        self.state_topic_name = f'{cfg.robot_name}_robot_state'\n",
    "        self.cmd_topic_name = f'{cfg.robot_name}_robot_cmd'\n",
    "        self.q_idx = []\n",
    "        self.dq_idx = []\n",
    "        self.tau_idx = []\n",
    "        self.kp_idx = []\n",
    "        self.kd_idx = []\n",
    "        self.q_des_idx = []\n",
    "        self.dq_des_idx = []\n",
    "        self.tau_ff_idx = []\n",
    "        \n",
    "        for i, state_name in enumerate(cfg.state_fields):\n",
    "            if state_name.split('_')[0] == 'q':\n",
    "                self.q_idx.append(i)\n",
    "            elif state_name.split('_')[0] == 'dq':\n",
    "                self.dq_idx.append(i)\n",
    "            elif state_name.split('_')[0] == 'tau':\n",
    "                self.tau_idx.append(i)\n",
    "\n",
    "        for i, command_name in enumerate(cfg.command_fields):\n",
    "            if command_name.split('_')[0] == 'kp':\n",
    "                self.kp_idx.append(i)\n",
    "            elif command_name.split('_')[0] == 'kd':\n",
    "                self.kd_idx.append(i)\n",
    "            elif command_name.split('_')[0] == 'q':\n",
    "                self.q_des_idx.append(i)\n",
    "            elif command_name.split('_')[0] == 'dq':\n",
    "                self.dq_des_idx.append(i)\n",
    "            elif command_name.split('_')[0] == 'tau':\n",
    "                self.tau_ff_idx.append(i)\n",
    "\n",
    "        self.udp_bridge = udp_bridge\n",
    "        self.participant = DomainParticipant()\n",
    "        self.cmd_topic = Topic(self.participant,self.cmd_topic_name, FingerCmd)\n",
    "        self.state_topic = Topic(self.participant,self.state_topic_name, FingerState)\n",
    "        self.cmd_reader = DataReader(self.participant, self.cmd_topic)\n",
    "        self.state_writer = DataWriter(self.participant, self.state_topic)\n",
    "        self.udp_cmd = np.zeros(len(cfg.command_fields))\n",
    "\n",
    "    def forwardUDPStates2DDS(self):\n",
    "        stamp, teensy_state = self.udp_bridge.getLatestState()\n",
    "        if teensy_state is not None:\n",
    "            state = np.array(teensy_state)\n",
    "            q = (state[self.q_idx]/self.cfg.gear_ratio).tolist()\n",
    "            dq = (state[self.dq_idx]/self.cfg.gear_ratio).tolist()\n",
    "            tau = (state[self.tau_idx]*self.cfg.current2Torque * self.cfg.gear_ratio).tolist()\n",
    "            state_msg = FingerState(q=q, dq=dq, tau=tau)\n",
    "            self.state_writer.write(state_msg)\n",
    "\n",
    "    def forwardDDSCmds2UDP(self):\n",
    "        cmd_msg = get_last_msg(self.cmd_reader, FingerCmd)\n",
    "        if cmd_msg is not None:\n",
    "            self.udp_cmd[self.q_des_idx] = cmd_msg.q_des\n",
    "            self.udp_cmd[self.dq_des_idx] = cmd_msg.dq_des\n",
    "            self.udp_cmd[self.kp_idx] = cmd_msg.kp\n",
    "            self.udp_cmd[self.kd_idx] = cmd_msg.kv\n",
    "            tau_ff = np.clip(cmd_msg.tau_ff, -self.cfg.max_torque, self.cfg.max_torque)\n",
    "            current = (np.array(tau_ff)/self.cfg.gear_ratio)/self.cfg.current2Torque\n",
    "            self.udp_cmd[self.tau_ff_idx] = current\n",
    "            self.udp_bridge.sendCommand(self.teensy_cmd)"
   ]
  },
  {
   "cell_type": "code",
   "execution_count": null,
   "metadata": {},
   "outputs": [],
   "source": [
    "dds_bridge = UDPCycloneDDSBridge('finger', 3, bridge)"
   ]
  },
  {
   "cell_type": "code",
   "execution_count": null,
   "metadata": {},
   "outputs": [],
   "source": [
    "import time\n",
    "dt = 0.001\n",
    "while True: \n",
    "    start=time.time()\n",
    "    dds_bridge.forwardUDPStates2DDS()\n",
    "    dds_bridge.forwardDDSCmds2UDP()\n",
    "    while time.time()-start<dt:\n",
    "        time.sleep(0.0002)"
   ]
  },
  {
   "cell_type": "markdown",
   "metadata": {},
   "source": [
    "# Robot Class"
   ]
  },
  {
   "cell_type": "code",
   "execution_count": null,
   "metadata": {},
   "outputs": [],
   "source": [
    "from FingerPy.robot.interface import NYUFingerRobot"
   ]
  },
  {
   "cell_type": "code",
   "execution_count": null,
   "metadata": {},
   "outputs": [],
   "source": [
    "robot = NYUFingerRobot('finger1')\n"
   ]
  },
  {
   "cell_type": "markdown",
   "metadata": {},
   "source": [
    "## Simple PD Control Example"
   ]
  },
  {
   "cell_type": "code",
   "execution_count": null,
   "metadata": {},
   "outputs": [],
   "source": [
    "import numpy as np\n",
    "import time \n",
    "\n",
    "q0 = robot.getRobotState()['q']\n",
    "q_des = q0\n",
    "\n",
    "kp = np.diag([1, 1, 1])*30\n",
    "kd = np.diag([0, 0, 0])\n",
    "for i in range(10000):\n",
    "    state = robot.getRobotState()\n",
    "    if state is not None:\n",
    "        tau = kp@(q_des - state['q']).reshape(3,1)\n",
    "        robot.setCommand(tau.squeeze())\n",
    "    time.sleep(0.001)"
   ]
  },
  {
   "cell_type": "code",
   "execution_count": null,
   "metadata": {},
   "outputs": [],
   "source": []
  },
  {
   "cell_type": "code",
   "execution_count": 2,
   "metadata": {},
   "outputs": [],
   "source": []
  },
  {
   "cell_type": "code",
   "execution_count": 3,
   "metadata": {},
   "outputs": [],
   "source": [
    "robot = NYUFingerSimulator()"
   ]
  },
  {
   "cell_type": "code",
   "execution_count": 10,
   "metadata": {},
   "outputs": [
    {
     "data": {
      "text/plain": [
       "array([ 1.2726741e-05, -2.1206688e-14,  3.0000000e-01])"
      ]
     },
     "execution_count": 10,
     "metadata": {},
     "output_type": "execute_result"
    }
   ],
   "source": [
    "robot.data.qpos"
   ]
  },
  {
   "cell_type": "code",
   "execution_count": 4,
   "metadata": {},
   "outputs": [
    {
     "ename": "KeyboardInterrupt",
     "evalue": "",
     "output_type": "error",
     "traceback": [
      "\u001b[0;31m---------------------------------------------------------------------------\u001b[0m",
      "\u001b[0;31mKeyboardInterrupt\u001b[0m                         Traceback (most recent call last)",
      "Cell \u001b[0;32mIn[4], line 6\u001b[0m\n\u001b[1;32m      4\u001b[0m \u001b[38;5;28;01mwhile\u001b[39;00m time\u001b[38;5;241m.\u001b[39mtime() \u001b[38;5;241m-\u001b[39m start_time \u001b[38;5;241m<\u001b[39m\u001b[38;5;241m20\u001b[39m:\n\u001b[1;32m      5\u001b[0m     robot\u001b[38;5;241m.\u001b[39mstep()\n\u001b[0;32m----> 6\u001b[0m     \u001b[43mtime\u001b[49m\u001b[38;5;241;43m.\u001b[39;49m\u001b[43msleep\u001b[49m\u001b[43m(\u001b[49m\u001b[38;5;241;43m0.001\u001b[39;49m\u001b[43m)\u001b[49m\n",
      "\u001b[0;31mKeyboardInterrupt\u001b[0m: "
     ]
    }
   ],
   "source": [
    "import time\n",
    "\n",
    "start_time = time.time()\n",
    "while time.time() - start_time <20:\n",
    "    robot.step()\n",
    "    time.sleep(0.001)"
   ]
  },
  {
   "cell_type": "code",
   "execution_count": null,
   "metadata": {},
   "outputs": [],
   "source": []
  }
 ],
 "metadata": {
  "kernelspec": {
   "display_name": "fingerpy",
   "language": "python",
   "name": "python3"
  },
  "language_info": {
   "codemirror_mode": {
    "name": "ipython",
    "version": 3
   },
   "file_extension": ".py",
   "mimetype": "text/x-python",
   "name": "python",
   "nbconvert_exporter": "python",
   "pygments_lexer": "ipython3",
   "version": "3.10.16"
  }
 },
 "nbformat": 4,
 "nbformat_minor": 2
}
