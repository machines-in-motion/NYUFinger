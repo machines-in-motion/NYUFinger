{
 "cells": [
  {
   "cell_type": "code",
   "execution_count": 1,
   "metadata": {},
   "outputs": [],
   "source": [
    "import socket\n",
    "import struct\n",
    "import numpy as np\n",
    "import time\n",
    "import threading\n",
    "\n",
    "class TeensyUDPBridge():\n",
    "    def __init__(self, \n",
    "                 bridge_ip='192.168.123.10', \n",
    "                 bridge_port=5000, \n",
    "                 host_ip='0.0.0.0', \n",
    "                 host_port=5000,\n",
    "                 user_callback=None):\n",
    "        self.bridge_ip = bridge_ip\n",
    "        self.bridge_port = bridge_port\n",
    "        self.socket=socket.socket(socket.AF_INET,socket.SOCK_DGRAM)\n",
    "        self.RX_RUNNING = True\n",
    "        self.socket.bind((host_ip, host_port))\n",
    "        self.rx_thread=threading.Thread(target=self.receivingThread)\n",
    "        self.state = None\n",
    "        self.latest_state_stamp = time.time()\n",
    "        self.packet = None\n",
    "        self.user_callback = user_callback\n",
    "        self.rx_thread.start()\n",
    "\n",
    "    def sendCommand(self, cmd):\n",
    "        msg_format=f'{len(cmd)}f'\n",
    "        payload = cmd\n",
    "        arguments = [msg_format] + payload\n",
    "        packet=struct.pack(*arguments)\n",
    "        self.socket.sendto(packet, (self.bridge_ip, self.bridge_port))\n",
    "\n",
    "    def getLatestState(self):\n",
    "        return self.latest_state_stamp, self.state\n",
    "\n",
    "    def receivingThread(self):\n",
    "        while self.RX_RUNNING:\n",
    "            packet = self.socket.recvmsg(4096)[0]\n",
    "            state_msg_format=f'{len(packet)//4}f'\n",
    "            data = struct.unpack(state_msg_format, packet)\n",
    "            self.state = data\n",
    "            self.latest_state_stamp = time.time()\n",
    "            # Notify user if a callback is provided\n",
    "            if self.user_callback is not None:\n",
    "                self.user_callback(self)\n",
    "\n",
    "    def close(self):\n",
    "        self.RX_RUNNING = False\n",
    "        self.socket.close()\n",
    "        self.rx_thread.join()"
   ]
  },
  {
   "cell_type": "code",
   "execution_count": 2,
   "metadata": {},
   "outputs": [],
   "source": [
    "udp_bridge = TeensyUDPBridge()"
   ]
  },
  {
   "cell_type": "code",
   "execution_count": 38,
   "metadata": {},
   "outputs": [
    {
     "data": {
      "text/plain": [
       "(1737258315.9701846,\n",
       " (-14.055112838745117,\n",
       "  -0.19855839014053345,\n",
       "  0.33745068311691284,\n",
       "  -0.0511326938867569,\n",
       "  -0.0511326938867569,\n",
       "  0.0,\n",
       "  0.0087890625,\n",
       "  0.0048828125,\n",
       "  -0.00390625))"
      ]
     },
     "execution_count": 38,
     "metadata": {},
     "output_type": "execute_result"
    }
   ],
   "source": [
    "udp_bridge.getLatestState()"
   ]
  },
  {
   "cell_type": "code",
   "execution_count": 352,
   "metadata": {},
   "outputs": [],
   "source": [
    "class SingleFingerRobot:\n",
    "    def __init__(self, bridge=None, robot_name='finger1', joint_order = ['hip', 'thigh', 'knee'], current2Torque=1.0, gear_ratio = 9, max_torque = 20.0):\n",
    "        self.robot_name = robot_name    \n",
    "        if bridge is None:\n",
    "            assert NotImplementedError, 'Default DDS bridge is not implemented yet'\n",
    "        else:\n",
    "            self.bridge = bridge\n",
    "        self.name2Index = {'hip': 0, 'thigh': 1, 'knee': 2}\n",
    "        self.index2Name = {v:k for k,v in self.name2Index.items()}\n",
    "        self.joints_idx = np.array([self.name2Index[j] for j in joint_order])\n",
    "        self.q_offset = 0\n",
    "        self.dq_offset = 3\n",
    "        self.current_offset = 6\n",
    "        self.current2Torque = current2Torque\n",
    "        self.max_torque = max_torque    \n",
    "        self.gear_ratio = gear_ratio \n",
    "        self.q_offsets = np.zeros(3)\n",
    "\n",
    "    def getState(self):\n",
    "        stamp, state = self.bridge.getLatestState()\n",
    "        state = np.array(state)\n",
    "        q = state[self.joints_idx+self.q_offset]/self.gear_ratio - self.q_offsets\n",
    "        dq = state[self.joints_idx+self.dq_offset]/self.gear_ratio\n",
    "        torque = state[self.joints_idx+self.current_offset] * self.current2Torque * self.gear_ratio\n",
    "        if time.time() - stamp > 0.1:\n",
    "            return None\n",
    "        else:\n",
    "            return dict(time = stamp, q = q, dq = dq, torque = torque)\n",
    "    \n",
    "    def resetJoints(self):\n",
    "        if self.getState() is None:\n",
    "            return False\n",
    "        else:\n",
    "            self.q_offsets = np.zeros(3)\n",
    "            state = self.getState()\n",
    "            self.q_offsets = state['q'].copy()\n",
    "            return True\n",
    "    \n",
    "    def setTroque(self, torques):\n",
    "        torques = np.clip(torques, -self.max_torque, self.max_torque)\n",
    "        current = (np.array(torques)[self.joints_idx]/self.gear_ratio)/self.current2Torque\n",
    "        cmd = current.tolist() + 12*[0.]\n",
    "        self.bridge.sendCommand(cmd)"
   ]
  },
  {
   "cell_type": "code",
   "execution_count": 353,
   "metadata": {},
   "outputs": [],
   "source": [
    "robot = SingleFingerRobot(udp_bridge)"
   ]
  },
  {
   "cell_type": "code",
   "execution_count": 354,
   "metadata": {},
   "outputs": [
    {
     "data": {
      "text/plain": [
       "{'time': 1737260140.899632,\n",
       " 'q': array([0., 0., 0.]),\n",
       " 'dq': array([ 0.        ,  0.        , -0.00568141]),\n",
       " 'torque': array([-0.11425781, -0.02636719, -0.01757812])}"
      ]
     },
     "execution_count": 354,
     "metadata": {},
     "output_type": "execute_result"
    }
   ],
   "source": [
    "if not robot.resetJoints():\n",
    "    print('Failed to reset joints')\n",
    "robot.getState()"
   ]
  },
  {
   "cell_type": "code",
   "execution_count": 355,
   "metadata": {},
   "outputs": [
    {
     "data": {
      "text/plain": [
       "{'time': 1737260141.9856563,\n",
       " 'q': array([0., 0., 0.]),\n",
       " 'dq': array([ 0.        ,  0.        , -0.00568141]),\n",
       " 'torque': array([ 0.        , -0.04394531,  0.05273438])}"
      ]
     },
     "execution_count": 355,
     "metadata": {},
     "output_type": "execute_result"
    }
   ],
   "source": [
    "robot.getState()"
   ]
  },
  {
   "cell_type": "code",
   "execution_count": 356,
   "metadata": {},
   "outputs": [
    {
     "ename": "KeyboardInterrupt",
     "evalue": "",
     "output_type": "error",
     "traceback": [
      "\u001b[0;31m---------------------------------------------------------------------------\u001b[0m",
      "\u001b[0;31mKeyboardInterrupt\u001b[0m                         Traceback (most recent call last)",
      "Input \u001b[0;32mIn [356]\u001b[0m, in \u001b[0;36m<cell line: 5>\u001b[0;34m()\u001b[0m\n\u001b[1;32m     12\u001b[0m torques \u001b[38;5;241m=\u001b[39m np\u001b[38;5;241m.\u001b[39marray([\u001b[38;5;241m0\u001b[39m, \u001b[38;5;241m0\u001b[39m, torque])\n\u001b[1;32m     13\u001b[0m robot\u001b[38;5;241m.\u001b[39msetTroque(torques)\n\u001b[0;32m---> 14\u001b[0m \u001b[43mtime\u001b[49m\u001b[38;5;241;43m.\u001b[39;49m\u001b[43msleep\u001b[49m\u001b[43m(\u001b[49m\u001b[38;5;241;43m0.01\u001b[39;49m\u001b[43m)\u001b[49m\n",
      "\u001b[0;31mKeyboardInterrupt\u001b[0m: "
     ]
    }
   ],
   "source": [
    "import time\n",
    "cmd = 15*[0]\n",
    "Kp = 80.0\n",
    "Kv = 0.0\n",
    "for i in range(5000):\n",
    "    state = robot.getState()\n",
    "    q = state['q']\n",
    "    dq = state['dq']\n",
    "    knee_q = q[2]\n",
    "    knee_dq = dq[2]\n",
    "    torque = Kp * (0.0 - knee_q) - Kv * knee_dq\n",
    "    torques = np.array([0, 0, torque])\n",
    "    robot.setTroque(torques)\n",
    "    time.sleep(0.01)"
   ]
  },
  {
   "cell_type": "code",
   "execution_count": null,
   "metadata": {},
   "outputs": [],
   "source": []
  }
 ],
 "metadata": {
  "kernelspec": {
   "display_name": "Python 3",
   "language": "python",
   "name": "python3"
  },
  "language_info": {
   "codemirror_mode": {
    "name": "ipython",
    "version": 3
   },
   "file_extension": ".py",
   "mimetype": "text/x-python",
   "name": "python",
   "nbconvert_exporter": "python",
   "pygments_lexer": "ipython3",
   "version": "3.8.10"
  }
 },
 "nbformat": 4,
 "nbformat_minor": 2
}
