{
 "cells": [
  {
   "cell_type": "markdown",
   "metadata": {},
   "source": [
    "# Closing the loop with a Proportional-Derivative controller\n",
    "\n",
    "We have seen in the previous notebook how to do a simple control loop that read sensors and applied torque commands. However, we did not use the sensor measurements to compute the torque commands.\n",
    "\n",
    "<img src=\"images/control_loop.png\" width=600>\n",
    "\n",
    "Now we would like to do our first closed-loop controller. We will design a simple Proportional-Derivative (PD) position controller. The goal of the controller is to compute a command that will move the joints of the robot to a desired position.\n",
    "\n",
    "Assume that we want the first joint, with measurement position $\\theta$, to move to the desired position $\\theta_{des}$. The idea is to apply a command proportional to the error between the measured and desired position (the P in PD controller). The  error is\n",
    "$$\\textrm{error} = (\\theta_{des} - \\theta)$$  and\n",
    "the desired torque to apply to the join will be $\\tau = P \\cdot \\textrm{error} = P (\\theta_{des} - \\theta)$ where $P$ is a constant.\n",
    "\n",
    "However, when using only a term proportional to the position, the controller will tend to create oscillations and get easily unstable (you can try!). It is then a good idea to add a term proportional to the time derivative of the error (the D term), i.e. proportional to the velocity.\n",
    "The time derivative of the error is\n",
    "$$\\frac{d}{dt}\\textrm{error} = \\frac{d}{dt}(\\theta_{des} - \\theta) =  \\dot{\\theta}_{des} - \\dot{\\theta}$$\n",
    "\n",
    "So a PD controller takes the general form\n",
    "$\\tau = P (\\theta_{des} - \\theta) + D (\\dot{\\theta}_{des} - \\dot{\\theta})$\n",
    "where $P$ and $D$ are positive numbers called the **PD gains**\n",
    "Intuitively it applies a command that tries to follow at the same time a desired position and a desired velocity (which dampens fast oscillations).\n",
    "\n",
    "When we want to be in a static position, $\\dot{\\theta}_{des}$ will be 0, but if we want to follow a trajectory $\\theta_{des}(t)$ which varies over time, the derivative $\\dot{\\theta}_{des}(t)$ will not be 0 anymore."
   ]
  },
  {
   "cell_type": "markdown",
   "metadata": {},
   "source": [
    "# Example of a simple PD control loop"
   ]
  },
  {
   "cell_type": "markdown",
   "metadata": {},
   "source": [
    "First import some libraries we need for this lab:"
   ]
  },
  {
   "cell_type": "code",
   "execution_count": null,
   "metadata": {},
   "outputs": [],
   "source": [
    "import numpy as np\n",
    "import matplotlib.pyplot as plt\n",
    "import time\n",
    "np.set_printoptions(precision=3) #Limit the print precision to 3 digits\n",
    "np.set_printoptions(suppress=True) # Disable scientifi number notation when printing numpy arrays"
   ]
  },
  {
   "cell_type": "markdown",
   "metadata": {},
   "source": [
    "## Simulation"
   ]
  },
  {
   "cell_type": "markdown",
   "metadata": {},
   "source": [
    "### Starting the Simulator"
   ]
  },
  {
   "cell_type": "markdown",
   "metadata": {},
   "source": [
    "Before going to the real robot, let's familiarize ourselves with the robot in the class through its simulated model. We need to import the class the encapsulates the Mujoco simulator code into a simple to use robot object. Instantiate the simulated robot as follows:\n",
    "\n",
    "**Important:** If you are running the notebook in Docker, make sure you that you have executed `xhost +` command in the terminal of your Ubuntu computer."
   ]
  },
  {
   "cell_type": "code",
   "execution_count": null,
   "metadata": {},
   "outputs": [],
   "source": [
    "from FingerPy.sim import NYUFingerSimulator\n",
    "robot_sim = NYUFingerSimulator()"
   ]
  },
  {
   "cell_type": "markdown",
   "metadata": {},
   "source": [
    "You should see the simulator window pop up like this:\n",
    "\n",
    "<p align=\"center\">\n",
    "<img src=\"images/simulator.png\" width=800>\n",
    "</p>\n",
    "\n"
   ]
  },
  {
   "cell_type": "markdown",
   "metadata": {},
   "source": [
    "### Main control loop\n",
    "This is the main code that you will have to change. This code initializes a few variables and then runs a control loop (the `for` statement), i.e. reads robot sensors -> do some computation -> send torque command to the actuators -> repeat"
   ]
  },
  {
   "cell_type": "code",
   "execution_count": null,
   "metadata": {},
   "outputs": [],
   "source": [
    "# we can now send a desired motor command and simulate the behavior of the robot\n",
    "# we send 0.1Nm on the first joint\n",
    "# we also record the measured state of the robot\n",
    "\n",
    "# below is a sample code to run the simulation / collect sensor and command data\n",
    "\n",
    "run_time = 20 # Duration of the experiment in seconds. Feel free to change it\n",
    "dt = 0.01 # How frequently you run the control. Here we are running it at 100Hz (100 times per second).\n",
    "\n",
    "P = np.array([1.5, 1.5, 1.5])\n",
    "D = np.array([0.01, 0.01, 0.01])\n",
    "\n",
    "## Let's make sure lists so we can record the state of our robot and plot it later\n",
    "measured_positions = []\n",
    "measured_velocities = []\n",
    "desired_torques = []\n",
    "timestamps = []\n",
    "\n",
    "# Record the initla state of the robot:\n",
    "q, dq = robot_sim.get_state()\n",
    "q0 = q.copy()\n",
    "dq0 = dq.copy()\n",
    "\n",
    "# We can set the desired joint position (q_des) and desired joint velocity (dq_des) to anything.\n",
    "# but here we set the desired joint position to the joint positions of the robot before we run the controller. \n",
    "# this way, the robot should stay at whatever configuration it was before you run this cell \n",
    "\n",
    "q_des = q0\n",
    "dq_des = np.zeros(3)\n",
    "\n",
    "start_time = time.time()\n",
    "while time.time()-start_time < run_time: # Keep running untill run_time seconds is passed since when we started the cell.\n",
    "    time_now = time.time()\n",
    "\n",
    "    # we read the position and velocities of the joints from the robot or simulation\n",
    "    q, dq = robot_sim.get_state()\n",
    "    \n",
    "    # we compute the desired torques\n",
    "    error = q_des - q # the position error for all the joints (it's a 3D vector)\n",
    "    d_error = dq_des-dq # the velocity error for all the joints\n",
    "    joint_torques = P * error + D * d_error\n",
    "    # we compute the desired torques as a PD controller\n",
    "    desired_torques.append(joint_torques)\n",
    "    # we send them to the robot\n",
    "    robot_sim.send_joint_torque(joint_torques)\n",
    "\n",
    "    # we store these values for later use. use .copy() to make sure we sure a copy of state is stored.\n",
    "    measured_positions.append(q.copy()) \n",
    "    measured_velocities.append(dq.copy())\n",
    "    desired_torques.append(joint_torques.copy())\n",
    "    timestamps.append(time_now-start_time)\n",
    "\n",
    "    #Wait for the dt deadile to pass before going back and repating everything\n",
    "    while time.time()-time_now < dt:\n",
    "        time.sleep(0.0001)"
   ]
  },
  {
   "cell_type": "markdown",
   "metadata": {},
   "source": [
    "## Plotting data after the simulation\n",
    "we stored some data (joint angles and time) while the control loop was running above\n",
    "Here is an example of plots we can generate with this data.\n",
    "You can of course generate any types of plot relevant to your problem."
   ]
  },
  {
   "cell_type": "code",
   "execution_count": null,
   "metadata": {},
   "outputs": [],
   "source": [
    "measured_positions = np.vstack(measured_positions)\n",
    "measured_velocities = np.vstack(measured_velocities)\n",
    "desired_torques = np.vstack(desired_torques)\n",
    "timestamps = np.array(timestamps)"
   ]
  },
  {
   "cell_type": "code",
   "execution_count": null,
   "metadata": {},
   "outputs": [],
   "source": [
    "# we plot the measured position and velocities of all the joints\n",
    "# and add the desired values\n",
    "joint_names = [\"HAA\", \"HFE\", \"KFE\"]\n",
    "plt.figure(figsize=[6, 12])\n",
    "for i in range(3):\n",
    "    plt.subplot(3,1,i+1)\n",
    "    plt.plot(timestamps, measured_positions[:,i])\n",
    "    plt.plot(timestamps, np.ones_like(timestamps)*q_des[i],'--')\n",
    "    plt.ylabel(joint_names[i] + ' [rad]')\n",
    "\n",
    "plt.xlabel('Time[s]')\n",
    "plt.title('joint positions')\n",
    "\n",
    "plt.figure(figsize=[6, 12])\n",
    "for i in range(3):\n",
    "    plt.subplot(3,1,i+1)\n",
    "    plt.plot(timestamps, measured_velocities[:,i])\n",
    "    plt.plot(timestamps, np.ones_like(timestamps)*dq_des[i],'--')\n",
    "    plt.ylabel(joint_names[i] + ' [rad/s]')\n",
    "plt.xlabel('Time[s]')\n",
    "plt.title('joint velocities')"
   ]
  },
  {
   "cell_type": "markdown",
   "metadata": {},
   "source": [
    "### Questions:\n",
    "(submit a pdf with detailed answers to these questions, including the plots through Brightspace)\n",
    "\n",
    "1. Describe qualitatively what you observe when you increase/decrease P and D.\n",
    "\n",
    "2. Tune the P and D gains to have a good tracking of the positions $[0,0,\\frac{\\pi}{2}]$ without any oscillations. The P and D gains need not be the same for different joints. What gains did you find? Plot the position and velocities of each joints as a function of time with these gains. (starting from the original initial robot configuration).\n",
    "\n",
    "3. Use the PD controller to do the following task: keep the position of the first two joints fixed and follows the following position trajectory for the last joint $0.8 \\sin(\\pi t)$. Plot the results (positions and velocities as a function of time for all joints). Simulate for at least 10 seconds.\n",
    "\n",
    "4. Do question 3. on the real robot (you might need to adapt the gains of the controller).\n",
    "\n",
    "5. (Bonus) Change the joint trajectories to get the robot to draw a circle in the air with its fingertip. Is it easy or difficult?"
   ]
  },
  {
   "cell_type": "markdown",
   "metadata": {},
   "source": [
    "## Real Robot"
   ]
  },
  {
   "cell_type": "markdown",
   "metadata": {},
   "source": [
    "Now that you know what to do and learned how to control the robot in simultion, let's make it real and try the same on the real robot. \n",
    "\n",
    "**Important:** Make sure you reset the notebook kernel before continuing so that nothing you did previously is mixed up with what you will do next. "
   ]
  },
  {
   "cell_type": "markdown",
   "metadata": {},
   "source": [
    "Make sure the robot is powered on and connected to your PC. Then run the following cell to make an object that talks with it:"
   ]
  },
  {
   "cell_type": "code",
   "execution_count": null,
   "metadata": {},
   "outputs": [],
   "source": [
    "import numpy as np\n",
    "import matplotlib.pyplot as plt\n",
    "import time\n",
    "np.set_printoptions(precision=3) #Limit the print precision to 3 digits\n",
    "np.set_printoptions(suppress=True) # Disable scientifi number notation when printing numpy arrays\n",
    "from FingerPy.robot.interface import NYUFinger\n",
    "\n",
    "robot_real = NYUFinger()"
   ]
  },
  {
   "cell_type": "markdown",
   "metadata": {},
   "source": [
    "If above didn't run successfully, call a TA. Otherwise, you should be able to read the sensors on the robot like this:"
   ]
  },
  {
   "cell_type": "code",
   "execution_count": null,
   "metadata": {},
   "outputs": [],
   "source": [
    "q, dq = robot_real.get_state()\n",
    "assert q is not None, 'The robot did not send its state to the PC. Ask a TA for help.'\n",
    "print('Joint Position:')\n",
    "print(q)\n",
    "print('Joint Velocity:')\n",
    "print(dq)"
   ]
  },
  {
   "cell_type": "markdown",
   "metadata": {},
   "source": [
    "Our real robot has can sense how much each joint has moved since it's turned on but it has no idea what the absolute value of the joint angles are. In other words, the robot has no way of knowing how it looked before waking up! Here we need to put the robot in a known configuration and let it know. After this, the robot will be able to keep track of its joint configurations. \n",
    "\n",
    "First, carefully move the robot's joints so that it looks like the following picture:\n",
    "\n",
    "![image.png](images/robot_home.png)"
   ]
  },
  {
   "cell_type": "markdown",
   "metadata": {},
   "source": [
    "Now, while carefully holding the robot, run the following cell to reset the joint sensors and call a TA if you see an error. "
   ]
  },
  {
   "cell_type": "code",
   "execution_count": null,
   "metadata": {},
   "outputs": [],
   "source": [
    "robot_real.reset_sensors()"
   ]
  },
  {
   "cell_type": "markdown",
   "metadata": {},
   "source": [
    "To make sure we did the job right, let's visualize the numbers it returns using its 3D model and compare how it think it looks to what it really looks in reality. First, make a visualizer object:"
   ]
  },
  {
   "cell_type": "code",
   "execution_count": null,
   "metadata": {},
   "outputs": [],
   "source": [
    "from FingerPy.utils.vis import NYUFingerVisualizer\n",
    "visulizer = NYUFingerVisualizer()"
   ]
  },
  {
   "cell_type": "markdown",
   "metadata": {},
   "source": [
    "Now we continiously read the real robot's state and send it to the visualizer in a loop. If everyhing is working right, you should see the robot in visualizer move and look the same way as the real robot:"
   ]
  },
  {
   "cell_type": "code",
   "execution_count": null,
   "metadata": {},
   "outputs": [],
   "source": [
    "start_time = time.time()\n",
    "while time.time()-start_time < 30:\n",
    "    q, dq = robot_real.get_state()\n",
    "    visulizer.show(q)\n",
    "    time.sleep(0.02)"
   ]
  },
  {
   "cell_type": "markdown",
   "metadata": {},
   "source": [
    "If everything looks right, you're ready to try the control loop for the real robot:"
   ]
  },
  {
   "cell_type": "code",
   "execution_count": null,
   "metadata": {},
   "outputs": [],
   "source": [
    "# we can now send a desired motor command and simulate the behavior of the robot\n",
    "# we send 0.1Nm on the first joint\n",
    "# we also record the measured state of the robot\n",
    "\n",
    "# below is a sample code to run the simulation / collect sensor and command data\n",
    "\n",
    "run_time = 20 # Duration of the experiment in seconds. Feel free to change it\n",
    "dt = 0.01 # How frequently you run the control. Here we are running it at 100Hz (100 times per second).\n",
    "\n",
    "P = np.array([1.5, 1.5, 1.5])*10\n",
    "D = np.array([0.01, 0.01, 0.01])\n",
    "\n",
    "## Let's make sure lists so we can record the state of our robot and plot it later\n",
    "measured_positions = []\n",
    "measured_velocities = []\n",
    "desired_torques = []\n",
    "timestamps = []\n",
    "\n",
    "# Record the initla state of the robot:\n",
    "q, dq = robot_real.get_state()\n",
    "q0 = q.copy()\n",
    "dq0 = dq.copy()\n",
    "\n",
    "# We can set the desired joint position (q_des) and desired joint velocity (dq_des) to anything.\n",
    "# but here we set the desired joint position to the joint positions of the robot before we run the controller. \n",
    "# this way, the robot should stay at whatever configuration it was before you run this cell \n",
    "\n",
    "q_des = q0\n",
    "dq_des = np.zeros(3)\n",
    "\n",
    "start_time = time.time()\n",
    "while time.time()-start_time < run_time: # Keep running untill run_time seconds is passed since when we started the cell.\n",
    "    time_now = time.time()\n",
    "\n",
    "    # we read the position and velocities of the joints from the robot or simulation\n",
    "    q, dq = robot_real.get_state()\n",
    "    \n",
    "    # we compute the desired torques\n",
    "    error = q_des - q # the position error for all the joints (it's a 3D vector)\n",
    "    d_error = dq_des-dq # the velocity error for all the joints\n",
    "    joint_torques = P * error + D * d_error\n",
    "    # we compute the desired torques as a PD controller\n",
    "    desired_torques.append(joint_torques)\n",
    "    # we send them to the robot\n",
    "    robot_real.send_joint_torque(joint_torques)\n",
    "\n",
    "    # we store these values for later use. use .copy() to make sure we sure a copy of state is stored.\n",
    "    measured_positions.append(q.copy()) \n",
    "    measured_velocities.append(dq.copy())\n",
    "    desired_torques.append(joint_torques.copy())\n",
    "    timestamps.append(time_now-start_time)\n",
    "\n",
    "    #Wait for the dt deadile to pass before going back and repating everything\n",
    "    while time.time()-time_now < dt:\n",
    "        time.sleep(0.0001)"
   ]
  },
  {
   "cell_type": "code",
   "execution_count": null,
   "metadata": {},
   "outputs": [],
   "source": []
  }
 ],
 "metadata": {
  "kernelspec": {
   "display_name": "Python 3 (ipykernel)",
   "language": "python",
   "name": "python3"
  },
  "language_info": {
   "codemirror_mode": {
    "name": "ipython",
    "version": 3
   },
   "file_extension": ".py",
   "mimetype": "text/x-python",
   "name": "python",
   "nbconvert_exporter": "python",
   "pygments_lexer": "ipython3",
   "version": "3.10.16"
  }
 },
 "nbformat": 4,
 "nbformat_minor": 4
}
